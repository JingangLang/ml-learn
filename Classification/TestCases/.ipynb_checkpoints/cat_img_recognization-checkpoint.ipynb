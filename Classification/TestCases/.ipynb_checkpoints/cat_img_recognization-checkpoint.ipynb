{
 "cells": [
  {
   "cell_type": "code",
   "execution_count": 1,
   "metadata": {
    "collapsed": true
   },
   "outputs": [],
   "source": [
    "import numpy as np\n",
    "import h5py\n",
    "import matplotlib.pyplot as plt"
   ]
  },
  {
   "cell_type": "code",
   "execution_count": 2,
   "metadata": {
    "collapsed": true
   },
   "outputs": [],
   "source": [
    "import sys\n",
    "sys.path.append(\"..\")\n",
    "from LogisticClassifier import *"
   ]
  },
  {
   "cell_type": "code",
   "execution_count": 3,
   "metadata": {
    "collapsed": true
   },
   "outputs": [],
   "source": [
    "%matplotlib inline"
   ]
  },
  {
   "cell_type": "markdown",
   "metadata": {},
   "source": [
    "# 1 加载数据"
   ]
  },
  {
   "cell_type": "code",
   "execution_count": 4,
   "metadata": {
    "collapsed": true
   },
   "outputs": [],
   "source": [
    "# 训练数据\n",
    "train_dataset = h5py.File(\"datasets/train_catvnoncat.h5\", \"r\")\n",
    "train_set_x_orig = np.array(train_dataset[\"train_set_x\"][:]) # your train set features\n",
    "train_set_y_orig = np.array(train_dataset[\"train_set_y\"][:]) # your train set labels"
   ]
  },
  {
   "cell_type": "code",
   "execution_count": 5,
   "metadata": {
    "collapsed": true
   },
   "outputs": [],
   "source": [
    "# 测试数据\n",
    "test_dataset = h5py.File(\"datasets/test_catvnoncat.h5\", \"r\")\n",
    "test_set_x_orig = np.array(test_dataset[\"test_set_x\"][:]) # your test set features\n",
    "test_set_y_orig = np.array(test_dataset[\"test_set_y\"][:]) # your test set labels"
   ]
  },
  {
   "cell_type": "markdown",
   "metadata": {},
   "source": [
    "# 2 数据清洗"
   ]
  },
  {
   "cell_type": "markdown",
   "metadata": {},
   "source": [
    "## 2.1 数据重塑"
   ]
  },
  {
   "cell_type": "code",
   "execution_count": 6,
   "metadata": {
    "collapsed": true
   },
   "outputs": [],
   "source": [
    "train_set_x_orig = train_set_x_orig.reshape(train_set_x_orig.shape[0], -1)\n",
    "test_set_x_orig = test_set_x_orig.reshape(test_set_x_orig.shape[0], -1)"
   ]
  },
  {
   "cell_type": "code",
   "execution_count": 7,
   "metadata": {},
   "outputs": [
    {
     "name": "stdout",
     "output_type": "stream",
     "text": [
      "The train set has 209 samples and 12288 features\n",
      "The test set has 50 samples and 12288 features\n"
     ]
    }
   ],
   "source": [
    "print(\"The train set has {} samples and {} features\".format(train_set_x_orig.shape[0], train_set_x_orig.shape[1]))\n",
    "print(\"The test set has {} samples and {} features\".format(test_set_x_orig.shape[0], test_set_x_orig.shape[1]))"
   ]
  },
  {
   "cell_type": "code",
   "execution_count": 8,
   "metadata": {},
   "outputs": [
    {
     "name": "stdout",
     "output_type": "stream",
     "text": [
      "This picture is 1\n"
     ]
    },
    {
     "data": {
      "image/png": "[encoded data removed]",
      "text/plain": [
       "<matplotlib.figure.Figure at 0x109f29d30>"
      ]
     },
     "metadata": {},
     "output_type": "display_data"
    }
   ],
   "source": [
    "idx = 14\n",
    "plt.imshow(train_set_x_orig[idx].reshape(64, 64, 3))\n",
    "print(\"This picture is {}\".format(train_set_y_orig[idx]))"
   ]
  },
  {
   "cell_type": "markdown",
   "metadata": {},
   "source": [
    "## 2.2 归一化处理"
   ]
  },
  {
   "cell_type": "code",
   "execution_count": 9,
   "metadata": {
    "collapsed": true
   },
   "outputs": [],
   "source": [
    "train_set_x = train_set_x_orig / 255\n",
    "test_set_x = test_set_x_orig / 255"
   ]
  },
  {
   "cell_type": "markdown",
   "metadata": {},
   "source": [
    "# 3 训练模型"
   ]
  },
  {
   "cell_type": "code",
   "execution_count": 10,
   "metadata": {},
   "outputs": [],
   "source": [
    "lr = LogisticClassifier(learning_rate=0.003, max_iter=2000, init_mode='zeros')"
   ]
  },
  {
   "cell_type": "code",
   "execution_count": 11,
   "metadata": {},
   "outputs": [
    {
     "name": "stdout",
     "output_type": "stream",
     "text": [
      "训练第 0 轮, 训练误差为: 0.6931471805599453\n",
      "训练第 100 轮, 训练误差为: 0.5288996738037884\n",
      "训练第 200 轮, 训练误差为: 0.47104936638642764\n",
      "训练第 300 轮, 训练误差为: 0.4297311690284539\n",
      "训练第 400 轮, 训练误差为: 0.3972242442681852\n",
      "训练第 500 轮, 训练误差为: 0.3704294477667853\n",
      "训练第 600 轮, 训练误差为: 0.34769885019859\n",
      "训练第 700 轮, 训练误差为: 0.32802584836182064\n",
      "训练第 800 轮, 训练误差为: 0.3107425362101216\n",
      "训练第 900 轮, 训练误差为: 0.29538015994772565\n",
      "训练第 1000 轮, 训练误差为: 0.2815958858299409\n",
      "训练第 1100 轮, 训练误差为: 0.2691308472393214\n",
      "训练第 1200 轮, 训练误差为: 0.257784523388749\n",
      "训练第 1300 轮, 训练误差为: 0.247398300209072\n",
      "训练第 1400 轮, 训练误差为: 0.23784449524351367\n",
      "训练第 1500 轮, 训练误差为: 0.2290187851449661\n",
      "训练第 1600 轮, 训练误差为: 0.22083483337765292\n",
      "训练第 1700 轮, 训练误差为: 0.21322038686138442\n",
      "训练第 1800 轮, 训练误差为: 0.20611438081671207\n",
      "训练第 1900 轮, 训练误差为: 0.19946475249174592\n"
     ]
    }
   ],
   "source": [
    "lr.fit(train_set_x, train_set_y_orig)"
   ]
  },
  {
   "cell_type": "markdown",
   "metadata": {},
   "source": [
    "# 4 评估模型"
   ]
  },
  {
   "cell_type": "code",
   "execution_count": 16,
   "metadata": {
    "collapsed": true
   },
   "outputs": [],
   "source": [
    "train_preds = lr.predict(train_set_x)\n",
    "test_preds = lr.predict(test_set_x)"
   ]
  },
  {
   "cell_type": "code",
   "execution_count": 20,
   "metadata": {},
   "outputs": [],
   "source": [
    "train_accuracy = np.round(sum(train_preds == train_set_y_orig) / train_set_y_orig.shape[0], 4)\n",
    "test_accuracy = np.round(sum(test_preds == test_set_y_orig) / test_set_y_orig.shape[0], 4)"
   ]
  },
  {
   "cell_type": "code",
   "execution_count": 21,
   "metadata": {},
   "outputs": [
    {
     "name": "stdout",
     "output_type": "stream",
     "text": [
      "Train Accuracy : 0.9617, Test Accuracy : 0.68\n"
     ]
    }
   ],
   "source": [
    "print(\"Train Accuracy : {}, Test Accuracy : {}\".format(train_accuracy, test_accuracy))"
   ]
  },
  {
   "cell_type": "code",
   "execution_count": 22,
   "metadata": {},
   "outputs": [
    {
     "data": {
      "image/png": "[encoded data removed]",
      "text/plain": [
       "<matplotlib.figure.Figure at 0x10a6dc9e8>"
      ]
     },
     "metadata": {},
     "output_type": "display_data"
    }
   ],
   "source": [
    "plt.plot(lr.costs)\n",
    "plt.ylabel('cost')\n",
    "plt.xlabel('iterations (per hundreds)')\n",
    "plt.title(\"Learning rate =\" + str(lr.get_params[\"learning_rate\"]))\n",
    "plt.show()"
   ]
  },
  {
   "cell_type": "code",
   "execution_count": 15,
   "metadata": {},
   "outputs": [
    {
     "data": {
      "text/plain": [
       "array([[ 0.00773216],\n",
       "       [-0.0202247 ],\n",
       "       [-0.00941977],\n",
       "       ..., \n",
       "       [-0.00935168],\n",
       "       [-0.02396778],\n",
       "       [ 0.0175256 ]])"
      ]
     },
     "execution_count": 15,
     "metadata": {},
     "output_type": "execute_result"
    }
   ],
   "source": [
    "lr.get_params['w']"
   ]
  }
 ],
 "metadata": {
  "kernelspec": {
   "display_name": "Python 3",
   "language": "python",
   "name": "python3"
  },
  "language_info": {
   "codemirror_mode": {
    "name": "ipython",
    "version": 3
   },
   "file_extension": ".py",
   "mimetype": "text/x-python",
   "name": "python",
   "nbconvert_exporter": "python",
   "pygments_lexer": "ipython3",
   "version": "3.6.3"
  }
 },
 "nbformat": 4,
 "nbformat_minor": 2
}
