{
 "cells": [
  {
   "cell_type": "code",
   "execution_count": 1,
   "metadata": {
    "collapsed": true
   },
   "outputs": [],
   "source": [
    "import numpy as np\n",
    "import h5py\n",
    "import matplotlib.pyplot as plt\n",
    "import sys\n",
    "sys.path.append(\"..\")"
   ]
  },
  {
   "cell_type": "code",
   "execution_count": 2,
   "metadata": {},
   "outputs": [],
   "source": [
    "from LogisticClassifier import *\n",
    "from NeuralNetwork import *"
   ]
  },
  {
   "cell_type": "code",
   "execution_count": 3,
   "metadata": {
    "collapsed": true
   },
   "outputs": [],
   "source": [
    "%matplotlib inline"
   ]
  },
  {
   "cell_type": "markdown",
   "metadata": {},
   "source": [
    "# 1 加载数据"
   ]
  },
  {
   "cell_type": "code",
   "execution_count": 4,
   "metadata": {
    "collapsed": true
   },
   "outputs": [],
   "source": [
    "# 训练数据\n",
    "train_dataset = h5py.File(\"datasets/train_catvnoncat.h5\", \"r\")\n",
    "train_set_x_orig = np.array(train_dataset[\"train_set_x\"][:]) # your train set features\n",
    "train_set_y_orig = np.array(train_dataset[\"train_set_y\"][:]) # your train set labels"
   ]
  },
  {
   "cell_type": "code",
   "execution_count": 5,
   "metadata": {
    "collapsed": true
   },
   "outputs": [],
   "source": [
    "# 测试数据\n",
    "test_dataset = h5py.File(\"datasets/test_catvnoncat.h5\", \"r\")\n",
    "test_set_x_orig = np.array(test_dataset[\"test_set_x\"][:]) # your test set features\n",
    "test_set_y_orig = np.array(test_dataset[\"test_set_y\"][:]) # your test set labels"
   ]
  },
  {
   "cell_type": "markdown",
   "metadata": {},
   "source": [
    "# 2 数据清洗"
   ]
  },
  {
   "cell_type": "markdown",
   "metadata": {},
   "source": [
    "## 2.1 数据重塑"
   ]
  },
  {
   "cell_type": "code",
   "execution_count": 6,
   "metadata": {
    "collapsed": true
   },
   "outputs": [],
   "source": [
    "train_set_x_orig = train_set_x_orig.reshape(train_set_x_orig.shape[0], -1)\n",
    "test_set_x_orig = test_set_x_orig.reshape(test_set_x_orig.shape[0], -1)"
   ]
  },
  {
   "cell_type": "code",
   "execution_count": 7,
   "metadata": {},
   "outputs": [
    {
     "name": "stdout",
     "output_type": "stream",
     "text": [
      "The train set has 209 samples and 12288 features\n",
      "The test set has 50 samples and 12288 features\n"
     ]
    }
   ],
   "source": [
    "print(\"The train set has {} samples and {} features\".format(train_set_x_orig.shape[0], train_set_x_orig.shape[1]))\n",
    "print(\"The test set has {} samples and {} features\".format(test_set_x_orig.shape[0], test_set_x_orig.shape[1]))"
   ]
  },
  {
   "cell_type": "code",
   "execution_count": 8,
   "metadata": {},
   "outputs": [
    {
     "name": "stdout",
     "output_type": "stream",
     "text": [
      "This picture is 1\n"
     ]
    },
    {
     "data": {
      "image/png": "[encoded data removed]",
      "text/plain": [
       "<matplotlib.figure.Figure at 0x10e76b128>"
      ]
     },
     "metadata": {},
     "output_type": "display_data"
    }
   ],
   "source": [
    "idx = 14\n",
    "plt.imshow(train_set_x_orig[idx].reshape(64, 64, 3))\n",
    "print(\"This picture is {}\".format(train_set_y_orig[idx]))"
   ]
  },
  {
   "cell_type": "markdown",
   "metadata": {},
   "source": [
    "## 2.2 归一化处理"
   ]
  },
  {
   "cell_type": "code",
   "execution_count": 9,
   "metadata": {
    "collapsed": true
   },
   "outputs": [],
   "source": [
    "train_set_x = train_set_x_orig / 255\n",
    "test_set_x = test_set_x_orig / 255"
   ]
  },
  {
   "cell_type": "markdown",
   "metadata": {},
   "source": [
    "# 3 训练模型"
   ]
  },
  {
   "cell_type": "markdown",
   "metadata": {},
   "source": [
    "## 3.1 LR模型"
   ]
  },
  {
   "cell_type": "code",
   "execution_count": 10,
   "metadata": {
    "collapsed": true
   },
   "outputs": [],
   "source": [
    "lr = LogisticClassifier(learning_rate=0.003, max_iter=2000, init_mode='zeros')"
   ]
  },
  {
   "cell_type": "code",
   "execution_count": 11,
   "metadata": {},
   "outputs": [
    {
     "name": "stdout",
     "output_type": "stream",
     "text": [
      "训练第 0 轮, 训练误差为: 0.6931471805599453\n",
      "训练第 100 轮, 训练误差为: 0.5288996738037884\n",
      "训练第 200 轮, 训练误差为: 0.47104936638642764\n",
      "训练第 300 轮, 训练误差为: 0.4297311690284539\n",
      "训练第 400 轮, 训练误差为: 0.3972242442681852\n",
      "训练第 500 轮, 训练误差为: 0.3704294477667853\n",
      "训练第 600 轮, 训练误差为: 0.34769885019859\n",
      "训练第 700 轮, 训练误差为: 0.32802584836182064\n",
      "训练第 800 轮, 训练误差为: 0.3107425362101216\n",
      "训练第 900 轮, 训练误差为: 0.29538015994772565\n",
      "训练第 1000 轮, 训练误差为: 0.2815958858299409\n",
      "训练第 1100 轮, 训练误差为: 0.2691308472393214\n",
      "训练第 1200 轮, 训练误差为: 0.257784523388749\n",
      "训练第 1300 轮, 训练误差为: 0.247398300209072\n",
      "训练第 1400 轮, 训练误差为: 0.23784449524351367\n",
      "训练第 1500 轮, 训练误差为: 0.2290187851449661\n",
      "训练第 1600 轮, 训练误差为: 0.22083483337765292\n",
      "训练第 1700 轮, 训练误差为: 0.21322038686138442\n",
      "训练第 1800 轮, 训练误差为: 0.20611438081671207\n",
      "训练第 1900 轮, 训练误差为: 0.19946475249174592\n"
     ]
    }
   ],
   "source": [
    "lr.fit(train_set_x, train_set_y_orig)"
   ]
  },
  {
   "cell_type": "code",
   "execution_count": 12,
   "metadata": {
    "collapsed": true
   },
   "outputs": [],
   "source": [
    "train_preds = lr.predict(train_set_x)\n",
    "test_preds = lr.predict(test_set_x)"
   ]
  },
  {
   "cell_type": "code",
   "execution_count": 13,
   "metadata": {
    "collapsed": true
   },
   "outputs": [],
   "source": [
    "train_accuracy = np.round(sum(train_preds == train_set_y_orig) / train_set_y_orig.shape[0], 4)\n",
    "test_accuracy = np.round(sum(test_preds == test_set_y_orig) / test_set_y_orig.shape[0], 4)"
   ]
  },
  {
   "cell_type": "code",
   "execution_count": 14,
   "metadata": {},
   "outputs": [
    {
     "name": "stdout",
     "output_type": "stream",
     "text": [
      "Train Accuracy : 0.9617, Test Accuracy : 0.68\n"
     ]
    }
   ],
   "source": [
    "print(\"Train Accuracy : {}, Test Accuracy : {}\".format(train_accuracy, test_accuracy))"
   ]
  },
  {
   "cell_type": "code",
   "execution_count": 15,
   "metadata": {},
   "outputs": [
    {
     "data": {
      "image/png": "[encoded data removed]",
      "text/plain": [
       "<matplotlib.figure.Figure at 0x113a4d3c8>"
      ]
     },
     "metadata": {},
     "output_type": "display_data"
    }
   ],
   "source": [
    "plt.plot(lr.costs)\n",
    "plt.ylabel('cost')\n",
    "plt.xlabel('iterations (per hundreds)')\n",
    "plt.title(\"Learning rate =\" + str(lr.get_params[\"learning_rate\"]))\n",
    "plt.show()"
   ]
  },
  {
   "cell_type": "markdown",
   "metadata": {},
   "source": [
    "## 3.2 单层Neural Network"
   ]
  },
  {
   "cell_type": "code",
   "execution_count": 80,
   "metadata": {
    "collapsed": true
   },
   "outputs": [],
   "source": [
    "snn = NeuralNetwork(layer_dims=(8, 1), learning_rate=0.0075, max_iter=3000, activate_fn=\"relu\", init_weights_coef=0.1, random_state=123)"
   ]
  },
  {
   "cell_type": "code",
   "execution_count": 81,
   "metadata": {},
   "outputs": [
    {
     "name": "stdout",
     "output_type": "stream",
     "text": [
      "Training times: 0, Training error: 0.6759609853295327\n",
      "Training times: 100, Training error: 0.6167708722948462\n",
      "Training times: 200, Training error: 0.5872170497506723\n",
      "Training times: 300, Training error: 0.5539650874792706\n",
      "Training times: 400, Training error: 0.5177389038528866\n",
      "Training times: 500, Training error: 0.4781711507342194\n",
      "Training times: 600, Training error: 0.4377173605362383\n",
      "Training times: 700, Training error: 0.3970224091257804\n",
      "Training times: 800, Training error: 0.3565619570472371\n",
      "Training times: 900, Training error: 0.31619141115217675\n",
      "Training times: 1000, Training error: 0.278798517877199\n",
      "Training times: 1100, Training error: 0.24261201204905397\n",
      "Training times: 1200, Training error: 0.2127906538569077\n",
      "Training times: 1300, Training error: 0.18701414056785975\n",
      "Training times: 1400, Training error: 0.16147773051747716\n",
      "Training times: 1500, Training error: 0.13969497821278626\n",
      "Training times: 1600, Training error: 0.12403304462587068\n",
      "Training times: 1700, Training error: 0.10816573327214699\n",
      "Training times: 1800, Training error: 0.0968356059248688\n",
      "Training times: 1900, Training error: 0.08556122184474795\n",
      "Training times: 2000, Training error: 0.07661180195987144\n",
      "Training times: 2100, Training error: 0.06872769811653853\n",
      "Training times: 2200, Training error: 0.061910517342982335\n",
      "Training times: 2300, Training error: 0.056136344808453635\n",
      "Training times: 2400, Training error: 0.05074912903326907\n",
      "Training times: 2500, Training error: 0.04661146516700094\n",
      "Training times: 2600, Training error: 0.04230003896251758\n",
      "Training times: 2700, Training error: 0.03882868522639995\n",
      "Training times: 2800, Training error: 0.03578606145287834\n",
      "Training times: 2900, Training error: 0.032993201360045604\n"
     ]
    }
   ],
   "source": [
    "snn.fit(train_set_x, train_set_y_orig)"
   ]
  },
  {
   "cell_type": "code",
   "execution_count": 82,
   "metadata": {},
   "outputs": [],
   "source": [
    "train_preds = snn.predict(train_set_x)\n",
    "test_preds = snn.predict(test_set_x)"
   ]
  },
  {
   "cell_type": "code",
   "execution_count": 83,
   "metadata": {
    "collapsed": true
   },
   "outputs": [],
   "source": [
    "train_accuracy = np.round(sum(train_preds == train_set_y_orig) / train_set_y_orig.shape[0], 4)\n",
    "test_accuracy = np.round(sum(test_preds == test_set_y_orig) / test_set_y_orig.shape[0], 4)"
   ]
  },
  {
   "cell_type": "code",
   "execution_count": 84,
   "metadata": {},
   "outputs": [
    {
     "name": "stdout",
     "output_type": "stream",
     "text": [
      "Train Accuracy : 0.9952, Test Accuracy : 0.62\n"
     ]
    }
   ],
   "source": [
    "print(\"Train Accuracy : {}, Test Accuracy : {}\".format(train_accuracy, test_accuracy))"
   ]
  },
  {
   "cell_type": "code",
   "execution_count": 85,
   "metadata": {},
   "outputs": [
    {
     "data": {
      "image/png": "[encoded data removed]",
      "text/plain": [
       "<matplotlib.figure.Figure at 0x11d631080>"
      ]
     },
     "metadata": {},
     "output_type": "display_data"
    }
   ],
   "source": [
    "plt.plot(snn.costs)\n",
    "plt.ylabel('cost')\n",
    "plt.xlabel('iterations (per hundreds)')\n",
    "plt.title(\"Learning rate =\" + str(lr.get_params[\"learning_rate\"]))\n",
    "plt.show()"
   ]
  },
  {
   "cell_type": "markdown",
   "metadata": {},
   "source": [
    "## 3.3 多层神经网络"
   ]
  },
  {
   "cell_type": "code",
   "execution_count": 65,
   "metadata": {
    "collapsed": true
   },
   "outputs": [],
   "source": [
    "dnn = NeuralNetwork(layer_dims=(20, 10, 5, 1), learning_rate=0.0075, max_iter=10000, activate_fn=\"tanh\", init_weights_coef=0.1)"
   ]
  },
  {
   "cell_type": "code",
   "execution_count": 66,
   "metadata": {},
   "outputs": [
    {
     "name": "stdout",
     "output_type": "stream",
     "text": [
      "Training times: 0, Training error: 0.6908322323923355\n",
      "Training times: 100, Training error: 0.6737803153516153\n",
      "Training times: 200, Training error: 0.6627652075977584\n",
      "Training times: 300, Training error: 0.6556918250464374\n",
      "Training times: 400, Training error: 0.6511807021710831\n",
      "Training times: 500, Training error: 0.6483197199408824\n",
      "Training times: 600, Training error: 0.6465020984808189\n",
      "Training times: 700, Training error: 0.6453366935956164\n",
      "Training times: 800, Training error: 0.6445766791007536\n",
      "Training times: 900, Training error: 0.6440619069531022\n",
      "Training times: 1000, Training error: 0.6436874011677113\n",
      "Training times: 1100, Training error: 0.6433867021448242\n",
      "Training times: 1200, Training error: 0.6431188760951764\n",
      "Training times: 1300, Training error: 0.6428587783544286\n",
      "Training times: 1400, Training error: 0.6425913547522796\n",
      "Training times: 1500, Training error: 0.6423096400522291\n",
      "Training times: 1600, Training error: 0.642012016831065\n",
      "Training times: 1700, Training error: 0.6416959041848321\n",
      "Training times: 1800, Training error: 0.6413550943212223\n",
      "Training times: 1900, Training error: 0.6409814060103699\n",
      "Training times: 2000, Training error: 0.6405657548871762\n",
      "Training times: 2100, Training error: 0.640097929647602\n",
      "Training times: 2200, Training error: 0.6395657117724233\n",
      "Training times: 2300, Training error: 0.6389537577823886\n",
      "Training times: 2400, Training error: 0.6382428176083207\n",
      "Training times: 2500, Training error: 0.637410028899936\n",
      "Training times: 2600, Training error: 0.6364286259994579\n",
      "Training times: 2700, Training error: 0.6352630684299247\n",
      "Training times: 2800, Training error: 0.6338631606247396\n",
      "Training times: 2900, Training error: 0.6321598465154395\n",
      "Training times: 3000, Training error: 0.6300584034847968\n",
      "Training times: 3100, Training error: 0.6274283086263808\n",
      "Training times: 3200, Training error: 0.6240927148515171\n",
      "Training times: 3300, Training error: 0.6198122355471686\n",
      "Training times: 3400, Training error: 0.6142497585416083\n",
      "Training times: 3500, Training error: 0.606912613531768\n",
      "Training times: 3600, Training error: 0.5970692198781137\n",
      "Training times: 3700, Training error: 0.5836413623271768\n",
      "Training times: 3800, Training error: 0.5651244962876005\n",
      "Training times: 3900, Training error: 0.5391845235636283\n",
      "Training times: 4000, Training error: 0.5066487911914481\n",
      "Training times: 4100, Training error: 0.46766504179660806\n",
      "Training times: 4200, Training error: 0.4236682241834735\n",
      "Training times: 4300, Training error: 0.377173072693582\n",
      "Training times: 4400, Training error: 0.3327977942837802\n",
      "Training times: 4500, Training error: 0.2924240280048915\n",
      "Training times: 4600, Training error: 0.2557026709982124\n",
      "Training times: 4700, Training error: 0.22200898816997963\n",
      "Training times: 4800, Training error: 0.19111353806157366\n",
      "Training times: 4900, Training error: 0.16655264729892427\n",
      "Training times: 5000, Training error: 0.14777648758031525\n",
      "Training times: 5100, Training error: 0.13269455441552924\n",
      "Training times: 5200, Training error: 0.12103510153253423\n",
      "Training times: 5300, Training error: 0.11078828077167906\n",
      "Training times: 5400, Training error: 0.10150502497616995\n",
      "Training times: 5500, Training error: 0.08896215737598993\n",
      "Training times: 5600, Training error: 0.07574397031073807\n",
      "Training times: 5700, Training error: 0.0610048859227117\n",
      "Training times: 5800, Training error: 0.05266202113230989\n",
      "Training times: 5900, Training error: 0.04610411731866026\n",
      "Training times: 6000, Training error: 0.04145472546964163\n",
      "Training times: 6100, Training error: 0.037680856747271306\n",
      "Training times: 6200, Training error: 0.03450762118344373\n",
      "Training times: 6300, Training error: 0.03182455822597189\n",
      "Training times: 6400, Training error: 0.029527731168150852\n",
      "Training times: 6500, Training error: 0.02753280908188551\n",
      "Training times: 6600, Training error: 0.025780244534157375\n",
      "Training times: 6700, Training error: 0.02422698160413204\n",
      "Training times: 6800, Training error: 0.02284050409879832\n",
      "Training times: 6900, Training error: 0.021595435764954006\n",
      "Training times: 7000, Training error: 0.020471497331934818\n",
      "Training times: 7100, Training error: 0.019452190550934202\n",
      "Training times: 7200, Training error: 0.018523904462878646\n",
      "Training times: 7300, Training error: 0.017675283747285508\n",
      "Training times: 7400, Training error: 0.01689676765912395\n",
      "Training times: 7500, Training error: 0.016180244225783146\n",
      "Training times: 7600, Training error: 0.015518784936065332\n",
      "Training times: 7700, Training error: 0.014906437365652376\n",
      "Training times: 7800, Training error: 0.014338060640515096\n",
      "Training times: 7900, Training error: 0.01380919330721602\n",
      "Training times: 8000, Training error: 0.01331594618297128\n",
      "Training times: 8100, Training error: 0.012854914752799778\n",
      "Training times: 8200, Training error: 0.012423107048541548\n",
      "Training times: 8300, Training error: 0.01201788391094784\n",
      "Training times: 8400, Training error: 0.011636909237435553\n",
      "Training times: 8500, Training error: 0.011278108338519282\n",
      "Training times: 8600, Training error: 0.01093963291899116\n",
      "Training times: 8700, Training error: 0.010619831500987003\n",
      "Training times: 8800, Training error: 0.01031722433927118\n",
      "Training times: 8900, Training error: 0.010030482061337888\n",
      "Training times: 9000, Training error: 0.009758407408483459\n",
      "Training times: 9100, Training error: 0.00949991956787448\n",
      "Training times: 9200, Training error: 0.00925404067660044\n",
      "Training times: 9300, Training error: 0.009019884151929402\n",
      "Training times: 9400, Training error: 0.00879664456145628\n",
      "Training times: 9500, Training error: 0.008583588795586045\n",
      "Training times: 9600, Training error: 0.008380048345116688\n",
      "Training times: 9700, Training error: 0.00818541252024549\n",
      "Training times: 9800, Training error: 0.007999122475281829\n",
      "Training times: 9900, Training error: 0.007820665926506912\n"
     ]
    }
   ],
   "source": [
    "dnn.fit(train_set_x, train_set_y_orig)"
   ]
  },
  {
   "cell_type": "code",
   "execution_count": 67,
   "metadata": {
    "collapsed": true
   },
   "outputs": [],
   "source": [
    "train_preds = dnn.predict(train_set_x)\n",
    "test_preds = dnn.predict(test_set_x)"
   ]
  },
  {
   "cell_type": "code",
   "execution_count": 68,
   "metadata": {
    "collapsed": true
   },
   "outputs": [],
   "source": [
    "train_accuracy = np.round(sum(train_preds == train_set_y_orig) / train_set_y_orig.shape[0], 4)\n",
    "test_accuracy = np.round(sum(test_preds == test_set_y_orig) / test_set_y_orig.shape[0], 4)"
   ]
  },
  {
   "cell_type": "code",
   "execution_count": 69,
   "metadata": {},
   "outputs": [
    {
     "name": "stdout",
     "output_type": "stream",
     "text": [
      "Train Accuracy : 1.0, Test Accuracy : 0.56\n"
     ]
    }
   ],
   "source": [
    "print(\"Train Accuracy : {}, Test Accuracy : {}\".format(train_accuracy, test_accuracy))"
   ]
  },
  {
   "cell_type": "code",
   "execution_count": 70,
   "metadata": {},
   "outputs": [
    {
     "data": {
      "image/png": "[encoded data removed]",
      "text/plain": [
       "<matplotlib.figure.Figure at 0x11af4c470>"
      ]
     },
     "metadata": {},
     "output_type": "display_data"
    }
   ],
   "source": [
    "plt.plot(dnn.costs)\n",
    "plt.ylabel('cost')\n",
    "plt.xlabel('iterations (per hundreds)')\n",
    "plt.title(\"Learning rate =\" + str(lr.get_params[\"learning_rate\"]))\n",
    "plt.show()"
   ]
  },
  {
   "cell_type": "code",
   "execution_count": null,
   "metadata": {
    "collapsed": true
   },
   "outputs": [],
   "source": []
  }
 ],
 "metadata": {
  "kernelspec": {
   "display_name": "Python 3",
   "language": "python",
   "name": "python3"
  },
  "language_info": {
   "codemirror_mode": {
    "name": "ipython",
    "version": 3
   },
   "file_extension": ".py",
   "mimetype": "text/x-python",
   "name": "python",
   "nbconvert_exporter": "python",
   "pygments_lexer": "ipython3",
   "version": "3.6.3"
  }
 },
 "nbformat": 4,
 "nbformat_minor": 2
}
